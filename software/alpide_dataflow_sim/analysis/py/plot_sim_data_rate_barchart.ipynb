{
 "cells": [
  {
   "cell_type": "code",
   "execution_count": 1,
   "metadata": {
    "collapsed": false
   },
   "outputs": [],
   "source": [
    "%matplotlib inline"
   ]
  },
  {
   "cell_type": "markdown",
   "metadata": {},
   "source": [
    "\n",
    "# Errorbar function\n",
    "\n",
    "\n",
    "This exhibits the most basic use of the error bar method.\n",
    "In this case, constant values are provided for the error\n",
    "in both the x- and y-directions.\n"
   ]
  },
  {
   "cell_type": "code",
   "execution_count": 8,
   "metadata": {
    "collapsed": true
   },
   "outputs": [
    {
     "name": "stdout",
     "output_type": "stream",
     "text": [
      "Layer  0 : Data rate:  780 ± 23\nLayer  1 : Data rate:  655 ± 43\nLayer  2 : Data rate:  543 ± 12\nLayer  3 : Data rate:  430 ± 29\nLayer  4 : Data rate:  422 ± 41\nLayer  5 : Data rate:  643 ± 38\nLayer  6 : Data rate:  648 ± 31\n{0: 780.0, 1: 655.0, 2: 543.0, 3: 430.0, 4: 422.0, 5: 643.0, 6: 648.0}\n{0: 23.0, 1: 43.0, 2: 12.0, 3: 29.0, 4: 41.0, 5: 38.0, 6: 31.0}\n"
     ]
    },
    {
     "data": {
      "image/png": "[encoded data removed]",
      "text/plain": [
       "<Figure size 432x288 with 1 Axes>"
      ]
     },
     "metadata": {},
     "output_type": "display_data"
    }
   ],
   "source": [
    "import numpy as np\n",
    "import csv\n",
    "import matplotlib.pyplot as plt\n",
    "\n",
    "\n",
    "dict_data_mean = dict()\n",
    "dict_data_stddev = dict()\n",
    "dict_protocol_mean = dict()\n",
    "dict_protocol_stddev = dict()\n",
    "    \n",
    "with open('/home/simon/Code/SystemC/alpide_submodule/submodule_alpide_systemc/software/alpide_dataflow_sim/sim_output_pixhit-new2/data_rates.csv') as csv_file:\n",
    "    csv_reader = csv.DictReader(csv_file, delimiter=';')\n",
    "    for row in csv_reader:\n",
    "        print('Layer ', row['layer'], ': Data rate: ', row['data_mbps_mean'], '±', row['data_mbps_stddev'])\n",
    "        #data_rate_mbps_mean[]\n",
    "        layer = int(row['layer'])\n",
    "        dict_data_mean[layer] = float(row['data_mbps_mean'])\n",
    "        dict_data_stddev[layer] = float(row['data_mbps_stddev'])\n",
    "        dict_protocol_mean[layer] = float(row['protocol_mbps_mean'])\n",
    "        dict_protocol_stddev[layer] = float(row['protocol_mbps_stddev'])\n",
    "\n",
    "    print(dict_data_mean)\n",
    "    print(dict_data_stddev)\n",
    "    \n",
    "list_data_mean = sorted(dict_data_mean.items())\n",
    "list_data_stddev = sorted(dict_data_stddev.items())\n",
    "list_protocol_mean = sorted(dict_protocol_mean.items())\n",
    "list_protocol_stddev = sorted(dict_protocol_stddev.items())\n",
    "\n",
    "\n",
    "layer, data_mean = zip(*list_data_mean)\n",
    "layer, data_stddev = zip(*list_data_stddev)\n",
    "layer, protocol_mean = zip(*list_protocol_mean)\n",
    "layer, protocol_stddev = zip(*list_protocol_stddev)\n",
    "\n",
    "\n",
    "\n",
    "# example data\n",
    "#x = np.arange(0.1, 4, 0.5)\n",
    "#y = np.exp(-x)\n",
    "\n",
    "fig, ax = plt.subplots()\n",
    "#ax.errorbar(x, y, xerr=0.2, yerr=0.4)\n",
    "#ax.errorbar(layer, data_mean, yerr=data_stddev)\n",
    "#ax.errorbar(layer, protocol_mean, yerr=protocol_stddev)\n",
    "#plt.show()\n",
    "\n",
    "width = 0.6       # the width of the bars: can also be len(x) sequence\n",
    "\n",
    "p1 = plt.bar(layer, data_mean, width, yerr=data_stddev, label='Data')\n",
    "p2 = plt.bar(layer, protocol_mean, width, bottom=data_mean, yerr=protocol_stddev, label='Protocol')\n",
    "\n",
    "plt.title('Data rate (for N staves) vs ITS layer')\n",
    "plt.xlabel('Layer')\n",
    "plt.ylabel('Data rate [Mbps]')\n",
    "plt.legend()\n",
    "\n",
    "\n",
    "plt.show()"
   ]
  },
  {
   "cell_type": "code",
   "execution_count": null,
   "metadata": {},
   "outputs": [],
   "source": []
  }
 ],
 "metadata": {
  "kernelspec": {
   "display_name": "Python 3",
   "language": "python",
   "name": "python3"
  },
  "language_info": {
   "codemirror_mode": {
    "name": "ipython",
    "version": 3
   },
   "file_extension": ".py",
   "mimetype": "text/x-python",
   "name": "python",
   "nbconvert_exporter": "python",
   "pygments_lexer": "ipython3",
   "version": "3.7.3"
  }
 },
 "nbformat": 4,
 "nbformat_minor": 0
}
